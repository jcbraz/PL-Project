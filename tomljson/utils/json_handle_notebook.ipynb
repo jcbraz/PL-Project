{
 "cells": [
  {
   "cell_type": "code",
   "execution_count": 156,
   "metadata": {},
   "outputs": [],
   "source": [
    "import re\n",
    "import pandas as pd\n",
    "import json"
   ]
  },
  {
   "cell_type": "code",
   "execution_count": 157,
   "metadata": {},
   "outputs": [],
   "source": [
    "data = ['title =', 'TOML Example', '[owner]', 'name =', 'Tom Preston-Werner', 'dob =', '1979-05-27T07:32:00-08:00', '[[products]]', 'name =', 'Joybrau', 'flavour =', 'Lemon', '[database]', 'enabled =', True, 'ports =', [8000, 8001, 8002], 'temp_targets =', ['{', 'cpu =', 79.5, 'case =', 72.0, '}'], '[database.connection]', 'host =', 1, 'port =', 2, '[servers]', 'db =', 'mongodb', '[servers.alpha]', 'ip =', '10.0.0.1', 'role =', 'frontend', '[servers.beta]', 'ip =', '10.0.0.2', 'role =', 'backend', '[bananas]', 'name =', 'Chiquita', 'price =', 1.99, 'quantity =', 10, '[bananas.color]', 'red =', 0, 'green =', 0.5, 'blue =', 0, 'hosts =', ['alpha', 'omega']]"
   ]
  },
  {
   "cell_type": "code",
   "execution_count": 158,
   "metadata": {},
   "outputs": [],
   "source": [
    "def handleInlineTables(data):\n",
    "    result = []\n",
    "    i = 0\n",
    "    while i < len(data):\n",
    "        value = data[i]\n",
    "        if isinstance(value, list) and value[0] == \"{\" and value[-1] == \"}\":\n",
    "            result.pop(i - 1)\n",
    "            result.append(f\"[{data[i - 1].split('=')[0].strip()}]\")\n",
    "            result.extend(value[1:-1])\n",
    "            i += 1\n",
    "        else:\n",
    "            result.append(value)\n",
    "        i += 1\n",
    "    return result\n",
    "\n",
    "\n",
    "data = handleInlineTables(data)"
   ]
  },
  {
   "cell_type": "code",
   "execution_count": 159,
   "metadata": {},
   "outputs": [],
   "source": [
    "class BreakPoints:\n",
    "    def __init__(self):\n",
    "        self.tables = []\n",
    "        self.inline_tables = []\n",
    "\n",
    "    def setBreakPoints(self, data):\n",
    "        table_pattern = re.compile(r\"\\[+\\w+(?:\\.\\w+)*\\]+\")\n",
    "        self.tables = re.findall(table_pattern, str(data))\n",
    "\n",
    "        for element in data:\n",
    "            if isinstance(element, list) and \"{\" in element:\n",
    "                index = data.index(element)\n",
    "                self.inline_tables.append(data[index - 1].split(\"=\")[0].strip())\n",
    "\n",
    "    def getTables(self):\n",
    "        return self.tables\n",
    "\n",
    "    def getInlineTables(self):\n",
    "        return self.inline_tables\n",
    "\n",
    "    def getTablesIndexes(self, data: list):\n",
    "        indexes = []\n",
    "        for table in self.tables:\n",
    "            indexes.append(data.index(table))\n",
    "        return indexes\n",
    "\n",
    "    def getInlineTablesIndexes(self, data: list):\n",
    "        indexes = []\n",
    "        for element in data:\n",
    "            if isinstance(element, list) and \"{\" in element:\n",
    "                indexes.append(data.index(element) - 1)\n",
    "\n",
    "        return indexes"
   ]
  },
  {
   "cell_type": "code",
   "execution_count": 160,
   "metadata": {},
   "outputs": [],
   "source": [
    "breakpoints = BreakPoints()\n",
    "breakpoints.setBreakPoints(data)"
   ]
  },
  {
   "cell_type": "code",
   "execution_count": 161,
   "metadata": {},
   "outputs": [
    {
     "data": {
      "text/plain": [
       "['[owner]',\n",
       " '[[products]]',\n",
       " '[database]',\n",
       " '[temp_targets]',\n",
       " '[servers]',\n",
       " '[servers.alpha]',\n",
       " '[servers.beta]',\n",
       " '[bananas]',\n",
       " '[bananas.color]']"
      ]
     },
     "execution_count": 161,
     "metadata": {},
     "output_type": "execute_result"
    }
   ],
   "source": [
    "breakpoints.getTables()"
   ]
  },
  {
   "cell_type": "code",
   "execution_count": 162,
   "metadata": {},
   "outputs": [
    {
     "data": {
      "text/plain": [
       "[]"
      ]
     },
     "execution_count": 162,
     "metadata": {},
     "output_type": "execute_result"
    }
   ],
   "source": [
    "breakpoints.getInlineTables()"
   ]
  },
  {
   "cell_type": "code",
   "execution_count": 163,
   "metadata": {},
   "outputs": [
    {
     "data": {
      "text/plain": [
       "[2, 7, 12, 17, 26, 29, 34, 39, 46]"
      ]
     },
     "execution_count": 163,
     "metadata": {},
     "output_type": "execute_result"
    }
   ],
   "source": [
    "breakpoints.getTablesIndexes(data)"
   ]
  },
  {
   "cell_type": "code",
   "execution_count": 164,
   "metadata": {},
   "outputs": [
    {
     "data": {
      "text/plain": [
       "[]"
      ]
     },
     "execution_count": 164,
     "metadata": {},
     "output_type": "execute_result"
    }
   ],
   "source": [
    "breakpoints.getInlineTablesIndexes(data)"
   ]
  },
  {
   "cell_type": "code",
   "execution_count": 165,
   "metadata": {},
   "outputs": [],
   "source": [
    "def injectTablesContent(data: list) -> dict:\n",
    "    breakpoints = BreakPoints()\n",
    "    breakpoints.setBreakPoints(data)\n",
    "\n",
    "    table_content = {}\n",
    "    table_indexes = breakpoints.getTablesIndexes(data)\n",
    "    table_count = len(table_indexes)\n",
    "\n",
    "    for i in range(0, table_count - 1):\n",
    "        table_content[breakpoints.getTables()[i]] = data[table_indexes[i] + 1:table_indexes[i + 1]]\n",
    "\n",
    "    # Handle the last table\n",
    "    table_content[breakpoints.getTables()[table_count - 1]] = data[table_indexes[table_count - 1] + 1:]\n",
    "\n",
    "    return table_content\n",
    "\n",
    "tables_dict = injectTablesContent(data)"
   ]
  },
  {
   "cell_type": "code",
   "execution_count": 166,
   "metadata": {},
   "outputs": [
    {
     "name": "stdout",
     "output_type": "stream",
     "text": [
      "{'[owner]': ['name=Tom Preston-Werner', 'dob=1979-05-27T07:32:00-08:00'], '[[products]]': ['name=Joybrau', 'flavour=Lemon'], '[database]': ['enabled=True', 'ports=[8000, 8001, 8002]'], '[temp_targets]': ['cpu=79.5', 'case=72.0', 'host=1', 'port=2'], '[servers]': ['db=mongodb'], '[servers.alpha]': ['ip=10.0.0.1', 'role=frontend'], '[servers.beta]': ['ip=10.0.0.2', 'role=backend'], '[bananas]': ['name=Chiquita', 'price=1.99', 'quantity=10'], '[bananas.color]': ['red=0', 'green=0.5', 'blue=0', \"hosts=['alpha', 'omega']\"]}\n"
     ]
    },
    {
     "data": {
      "text/html": [
       "<div>\n",
       "<style scoped>\n",
       "    .dataframe tbody tr th:only-of-type {\n",
       "        vertical-align: middle;\n",
       "    }\n",
       "\n",
       "    .dataframe tbody tr th {\n",
       "        vertical-align: top;\n",
       "    }\n",
       "\n",
       "    .dataframe thead th {\n",
       "        text-align: right;\n",
       "    }\n",
       "</style>\n",
       "<table border=\"1\" class=\"dataframe\">\n",
       "  <thead>\n",
       "    <tr style=\"text-align: right;\">\n",
       "      <th></th>\n",
       "      <th>0</th>\n",
       "      <th>1</th>\n",
       "      <th>2</th>\n",
       "      <th>3</th>\n",
       "    </tr>\n",
       "  </thead>\n",
       "  <tbody>\n",
       "    <tr>\n",
       "      <th>[owner]</th>\n",
       "      <td>name=Tom Preston-Werner</td>\n",
       "      <td>dob=1979-05-27T07:32:00-08:00</td>\n",
       "      <td>None</td>\n",
       "      <td>None</td>\n",
       "    </tr>\n",
       "    <tr>\n",
       "      <th>[[products]]</th>\n",
       "      <td>name=Joybrau</td>\n",
       "      <td>flavour=Lemon</td>\n",
       "      <td>None</td>\n",
       "      <td>None</td>\n",
       "    </tr>\n",
       "    <tr>\n",
       "      <th>[database]</th>\n",
       "      <td>enabled=True</td>\n",
       "      <td>ports=[8000, 8001, 8002]</td>\n",
       "      <td>None</td>\n",
       "      <td>None</td>\n",
       "    </tr>\n",
       "    <tr>\n",
       "      <th>[temp_targets]</th>\n",
       "      <td>cpu=79.5</td>\n",
       "      <td>case=72.0</td>\n",
       "      <td>host=1</td>\n",
       "      <td>port=2</td>\n",
       "    </tr>\n",
       "    <tr>\n",
       "      <th>[servers]</th>\n",
       "      <td>db=mongodb</td>\n",
       "      <td>None</td>\n",
       "      <td>None</td>\n",
       "      <td>None</td>\n",
       "    </tr>\n",
       "    <tr>\n",
       "      <th>[servers.alpha]</th>\n",
       "      <td>ip=10.0.0.1</td>\n",
       "      <td>role=frontend</td>\n",
       "      <td>None</td>\n",
       "      <td>None</td>\n",
       "    </tr>\n",
       "    <tr>\n",
       "      <th>[servers.beta]</th>\n",
       "      <td>ip=10.0.0.2</td>\n",
       "      <td>role=backend</td>\n",
       "      <td>None</td>\n",
       "      <td>None</td>\n",
       "    </tr>\n",
       "    <tr>\n",
       "      <th>[bananas]</th>\n",
       "      <td>name=Chiquita</td>\n",
       "      <td>price=1.99</td>\n",
       "      <td>quantity=10</td>\n",
       "      <td>None</td>\n",
       "    </tr>\n",
       "    <tr>\n",
       "      <th>[bananas.color]</th>\n",
       "      <td>red=0</td>\n",
       "      <td>green=0.5</td>\n",
       "      <td>blue=0</td>\n",
       "      <td>hosts=['alpha', 'omega']</td>\n",
       "    </tr>\n",
       "  </tbody>\n",
       "</table>\n",
       "</div>"
      ],
      "text/plain": [
       "                                       0                              1  \\\n",
       "[owner]          name=Tom Preston-Werner  dob=1979-05-27T07:32:00-08:00   \n",
       "[[products]]                name=Joybrau                  flavour=Lemon   \n",
       "[database]                  enabled=True       ports=[8000, 8001, 8002]   \n",
       "[temp_targets]                  cpu=79.5                      case=72.0   \n",
       "[servers]                     db=mongodb                           None   \n",
       "[servers.alpha]              ip=10.0.0.1                  role=frontend   \n",
       "[servers.beta]               ip=10.0.0.2                   role=backend   \n",
       "[bananas]                  name=Chiquita                     price=1.99   \n",
       "[bananas.color]                    red=0                      green=0.5   \n",
       "\n",
       "                           2                         3  \n",
       "[owner]                 None                      None  \n",
       "[[products]]            None                      None  \n",
       "[database]              None                      None  \n",
       "[temp_targets]        host=1                    port=2  \n",
       "[servers]               None                      None  \n",
       "[servers.alpha]         None                      None  \n",
       "[servers.beta]          None                      None  \n",
       "[bananas]        quantity=10                      None  \n",
       "[bananas.color]       blue=0  hosts=['alpha', 'omega']  "
      ]
     },
     "execution_count": 166,
     "metadata": {},
     "output_type": "execute_result"
    }
   ],
   "source": [
    "new_data = {}\n",
    "for key, values in tables_dict.items():\n",
    "    for i in range(0, len(values), 2):\n",
    "        column_key = key\n",
    "        if column_key not in new_data:\n",
    "            new_data[column_key] = []\n",
    "        variable = values[i].split('=')[0].strip()\n",
    "        new_data[column_key].append(f\"{variable}={values[i+1]}\")\n",
    "\n",
    "# Convert the new dictionary to a DataFrame\n",
    "df = pd.DataFrame.from_dict(new_data, orient='index')\n",
    "df\n"
   ]
  },
  {
   "cell_type": "code",
   "execution_count": 167,
   "metadata": {},
   "outputs": [
    {
     "data": {
      "text/plain": [
       "{'owner': {'name': 'Tom Preston-Werner', 'dob': '1979-05-27T07:32:00-08:00'},\n",
       " '[[products]]': {'name': 'Joybrau', 'flavour': 'Lemon'},\n",
       " 'database': {'enabled': 'True', 'ports': '[8000, 8001, 8002]'},\n",
       " 'temp_targets': {'cpu': '79.5', 'case': '72.0', 'host': '1', 'port': '2'},\n",
       " 'servers': {'db': 'mongodb'},\n",
       " 'servers.alpha': {'ip': '10.0.0.1', 'role': 'frontend'},\n",
       " 'servers.beta': {'ip': '10.0.0.2', 'role': 'backend'},\n",
       " 'bananas': {'name': 'Chiquita', 'price': '1.99', 'quantity': '10'},\n",
       " 'bananas.color': {'red': '0',\n",
       "  'green': '0.5',\n",
       "  'blue': '0',\n",
       "  'hosts': \"['alpha', 'omega']\"}}"
      ]
     },
     "execution_count": 167,
     "metadata": {},
     "output_type": "execute_result"
    }
   ],
   "source": [
    "def extractInfoFromRow(row: pd.Series) -> dict:\n",
    "    info = {}\n",
    "    for element in row:\n",
    "        if isinstance(element, str):\n",
    "            variable, value = element.split('=')\n",
    "            info[variable.strip()] = value.strip()\n",
    "    return info\n",
    "\n",
    "# Extract the information from each row\n",
    "results = {}\n",
    "for i in range(len(df)-1):\n",
    "    result = extractInfoFromRow(df.iloc[i])\n",
    "    if '[[' in df.index[i]:\n",
    "        results[df.index[i]] = result    \n",
    "    else:\n",
    "        results[df.index[i].strip('[').strip(']')] = result\n",
    "\n",
    "# Handle the last row\n",
    "result = extractInfoFromRow(df.iloc[-1])\n",
    "results[df.index[-1].strip('[]')] = result\n",
    "\n",
    "results"
   ]
  },
  {
   "cell_type": "code",
   "execution_count": 168,
   "metadata": {},
   "outputs": [],
   "source": [
    "def handleNestedTables(input_dict):\n",
    "    keys_to_remove = []\n",
    "    keys_copy = list(input_dict.keys())\n",
    "    \n",
    "    for key in keys_copy:\n",
    "        if '.' in key:\n",
    "            parent_key, nested_key = key.split('.', 1)\n",
    "            parent_key = parent_key.strip('[').strip(']')  # Remove brackets from parent_key\n",
    "            nested_key = nested_key.strip('[').strip(']')  # Remove brackets from nested_key\n",
    "            if parent_key in input_dict:\n",
    "                input_dict[parent_key][nested_key] = input_dict[key]\n",
    "            else:\n",
    "                input_dict[parent_key] = {nested_key: input_dict[key]}\n",
    "            keys_to_remove.append(key)\n",
    "\n",
    "    for key in keys_to_remove:\n",
    "        del input_dict[key]\n",
    "\n",
    "    return input_dict\n",
    "\n",
    "results = handleNestedTables(results)"
   ]
  },
  {
   "cell_type": "code",
   "execution_count": 169,
   "metadata": {},
   "outputs": [],
   "source": [
    "def handleArrayTables(input_dict: dict):\n",
    "    return_dict = {}\n",
    "    \n",
    "    for key, value in input_dict.items():\n",
    "        if '[[' in key:\n",
    "            new_key = key.strip('[').strip(']')\n",
    "            new_value = [{k: v} for k, v in value.items()]\n",
    "            return_dict[new_key] = new_value\n",
    "        else:\n",
    "            return_dict[key] = value\n",
    "        \n",
    "    return return_dict\n",
    "\n",
    "results = handleArrayTables(results)\n"
   ]
  },
  {
   "cell_type": "code",
   "execution_count": 170,
   "metadata": {},
   "outputs": [],
   "source": [
    "# Convert results to json\n",
    "def writeJsonFile(results, file_name):\n",
    "    with open(file_name, 'w') as f:\n",
    "        f.write(json.dumps(results, indent=4))"
   ]
  }
 ],
 "metadata": {
  "kernelspec": {
   "display_name": "Python 3",
   "language": "python",
   "name": "python3"
  },
  "language_info": {
   "codemirror_mode": {
    "name": "ipython",
    "version": 3
   },
   "file_extension": ".py",
   "mimetype": "text/x-python",
   "name": "python",
   "nbconvert_exporter": "python",
   "pygments_lexer": "ipython3",
   "version": "3.11.2"
  },
  "orig_nbformat": 4
 },
 "nbformat": 4,
 "nbformat_minor": 2
}
